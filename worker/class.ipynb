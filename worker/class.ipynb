{
 "cells": [
  {
   "cell_type": "code",
   "execution_count": 2,
   "metadata": {},
   "outputs": [
    {
     "name": "stdout",
     "output_type": "stream",
     "text": [
      "Index(['時間戳記', '職位 (ex. 組長、工人)', '組別(ex. XX組)', '姓名', '手機號碼', 'LINE 暱稱',\n",
      "       'Email', '身分證字號', '生日(以民國表示) ex: 92/01/01', '想說ㄉ話'],\n",
      "      dtype='object')\n"
     ]
    }
   ],
   "source": [
    "import pandas as pd\n",
    "\n",
    "data = pd.read_csv(\"input.csv\")\n",
    "\n",
    "print(data.columns)\n",
    "\n",
    "columns_to_keep = ['組別(ex. XX組)','職位 (ex. 組長、工人)','姓名','手機號碼','LINE 暱稱','身分證字號','生日(以民國表示) ex: 92/01/01']\n",
    "mp = {\n",
    "    '行政組':1,\n",
    "    '公關組':2,\n",
    "    '行銷組':3,\n",
    "    '活動組':4,\n",
    "    '場器組':5\n",
    "}\n",
    "\n",
    "for index, row in data.iterrows():\n",
    "    data.at[index, '組別(ex. XX組)'] = mp[row['組別(ex. XX組)']]\n",
    "\n",
    "new_data = data[columns_to_keep].rename(columns={\n",
    "    '職位 (ex. 組長、工人)': '職位',\n",
    "    '組別(ex. XX組)':'組別',\n",
    "    '生日(以民國表示) ex: 92/01/01': '生日'\n",
    "}).sort_values(by=['組別','職位'],ascending=[True,False])\n",
    "\n",
    "mp = dict(zip(mp.values(), mp.keys()))\n",
    "\n",
    "for index, row in new_data.iterrows():\n",
    "    new_data.at[index, '組別'] = mp[row['組別']]\n",
    "\n",
    "new_data.to_csv(\"output.csv\", index=False)\n"
   ]
  }
 ],
 "metadata": {
  "kernelspec": {
   "display_name": "Python 3",
   "language": "python",
   "name": "python3"
  },
  "language_info": {
   "codemirror_mode": {
    "name": "ipython",
    "version": 3
   },
   "file_extension": ".py",
   "mimetype": "text/x-python",
   "name": "python",
   "nbconvert_exporter": "python",
   "pygments_lexer": "ipython3",
   "version": "3.11.5"
  }
 },
 "nbformat": 4,
 "nbformat_minor": 2
}
