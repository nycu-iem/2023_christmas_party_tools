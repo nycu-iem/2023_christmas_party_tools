{
 "cells": [
  {
   "cell_type": "code",
   "execution_count": 1,
   "metadata": {},
   "outputs": [
    {
     "data": {
      "text/plain": [
       "Index(['Unnamed: 0', '票的類型', '姓名', '電子郵件信箱', '學號', '系所', '身分證字號', '出生年月日',\n",
       "       '是否搭車（需加150元）', '姓名 ', 'Unnamed: 10', '學號 ', '系所 ', '身分證字號 ', '出生年月日 ',\n",
       "       '是否搭車（需加150元）.1', '姓名.1', '電子郵件信箱.1', '學號 .1', '系所.1', '身分證字號 .1',\n",
       "       '出生年月日.1', '是否搭車', '姓名.2', '電子郵件信箱.2', '學號.1', '系所.2', '身分證字號.1',\n",
       "       '出生年月日.2', '是否搭車（需加150元）.2', 'Unnamed: 30'],\n",
       "      dtype='object')"
      ]
     },
     "execution_count": 1,
     "metadata": {},
     "output_type": "execute_result"
    }
   ],
   "source": [
    "import pandas as pd\n",
    "import numpy as np\n",
    "\n",
    "data = pd.read_csv('input.csv')\n",
    "\n",
    "data.columns\n",
    "\n",
    "\n",
    "# def append_attendee(attendees, arr):\n",
    "#     return attendees.append({\n",
    "#         'name': arr[0],\n",
    "#         'email': arr[1],\n",
    "#         'id': arr[4],\n",
    "#         'student_id': arr[2],\n",
    "#         'birthday': arr[5],\n",
    "#         'department': arr[3],\n",
    "#         'carry': arr[6]\n",
    "#     }, ignore_index=True)"
   ]
  },
  {
   "cell_type": "code",
   "execution_count": 12,
   "metadata": {},
   "outputs": [
    {
     "name": "stdout",
     "output_type": "stream",
     "text": [
      "總人數:  236\n",
      "個人票:  41\n",
      "團體票:  195\n"
     ]
    }
   ],
   "source": [
    "# iter through each row\n",
    "\n",
    "# print(data.head())\n",
    "\n",
    "# attendees = pd.DataFrame(columns=['name', 'email', 'id', 'student_id', 'birthday', 'department', 'carry'])\n",
    "\n",
    "attendees_list = []\n",
    "\n",
    "for index, row in data.iterrows():\n",
    "    # skip nan users\n",
    "    if(pd.isnull(row['票的類型'])):\n",
    "        continue\n",
    "\n",
    "    # print(row)\n",
    "    if(row['票的類型'] == '一般票 $500'):\n",
    "        # one attendee\n",
    "        user = row.iloc[2:9].values.tolist()\n",
    "        user.append('S')\n",
    "        # S stands for Single\n",
    "        attendees_list.append(user)\n",
    "        # attendees = append_attendee(attendees, user)\n",
    "        \n",
    "    else:\n",
    "        # three attendees\n",
    "        user1 = row.iloc[9:16].values.tolist()\n",
    "        user2 = row.iloc[16:23].values.tolist()\n",
    "        user3 = row.iloc[23:30].values.tolist()\n",
    "        \n",
    "        user1.append('G')\n",
    "        user2.append('G')\n",
    "        user3.append('G')\n",
    "        # G stands for Group\n",
    "\n",
    "        # attendees = append_attendee(attendees, user1)\n",
    "        # attendees = append_attendee(attendees, user2)\n",
    "        # attendees = append_attendee(attendees, user3)\n",
    "\n",
    "        attendees_list.append(user1)\n",
    "        attendees_list.append(user2)\n",
    "        attendees_list.append(user3)\n",
    "\n",
    "# change list into dataframe\n",
    "attendees = pd.DataFrame(attendees_list, columns=['name', 'email', 'student_id', 'department', 'id', 'birthday', 'carry','type'])\n",
    "\n",
    "attendees = attendees[['department','student_id','name','email','id','birthday','carry','type']].rename(columns={\n",
    "    \"name\": \"姓名\",\n",
    "    \"email\": \"電子郵件\",\n",
    "    \"id\": \"身分證字號\",\n",
    "    \"student_id\": \"學號\",\n",
    "    \"birthday\": \"生日\",\n",
    "    \"department\": \"系所\",\n",
    "    \"carry\": \"搭車\",\n",
    "    'type': \"票種\"\n",
    "})\n",
    "attendees.head(10)\n",
    "\n",
    "attendees.to_csv('output.csv', index=False, encoding='utf_8_sig')\n",
    "\n",
    "## 統計資料\n",
    "\n",
    "# 1. 總人數\n",
    "print('總人數: ',attendees.shape[0])\n",
    "# 2. 總系所\n",
    "# TODO: 系所名稱有重複\n",
    "# print(attendees['系所'].unique())\n",
    "# 3. 個票種人數\n",
    "print('個人票: ',attendees['票種'].value_counts()['S'])\n",
    "print('團體票: ',attendees['票種'].value_counts()['G'])"
   ]
  }
 ],
 "metadata": {
  "kernelspec": {
   "display_name": "Python 3",
   "language": "python",
   "name": "python3"
  },
  "language_info": {
   "codemirror_mode": {
    "name": "ipython",
    "version": 3
   },
   "file_extension": ".py",
   "mimetype": "text/x-python",
   "name": "python",
   "nbconvert_exporter": "python",
   "pygments_lexer": "ipython3",
   "version": "3.11.5"
  }
 },
 "nbformat": 4,
 "nbformat_minor": 2
}
